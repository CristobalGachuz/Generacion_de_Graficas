{
 "cells": [
  {
   "cell_type": "markdown",
   "id": "2f92e6a7",
   "metadata": {},
   "source": [
    "### Volver al índice\n",
    "1. [Índice](https://github.com/CristobalGachuz/Generacion_de_Graficas/blob/main/indice.ipynb)"
   ]
  },
  {
   "cell_type": "code",
   "execution_count": null,
   "id": "91233a12",
   "metadata": {},
   "outputs": [],
   "source": [
    "import matplotlib.pyplot as plt\n",
    "import numpy as np\n",
    "\n",
    "# Generar datos\n",
    "data = np.random.normal(loc=0, scale=1, size=1000)\n",
    "\n",
    "# Calcular el histograma\n",
    "counts, bin_edges = np.histogram(data, bins=30)\n",
    "\n",
    "# Crear el polígono de frecuencia\n",
    "plt.figure(figsize=(10, 6))\n",
    "plt.plot(bin_edges[1:], counts, marker='o', color='orange', linestyle='-')\n",
    "plt.title('Polígono de Frecuencia')\n",
    "plt.xlabel('Valor')\n",
    "plt.ylabel('Frecuencia')\n",
    "plt.grid()\n",
    "plt.show()"
   ]
  }
 ],
 "metadata": {
  "kernelspec": {
   "display_name": "Python 3",
   "language": "python",
   "name": "python3"
  },
  "language_info": {
   "codemirror_mode": {
    "name": "ipython",
    "version": 3
   },
   "file_extension": ".py",
   "mimetype": "text/x-python",
   "name": "python",
   "nbconvert_exporter": "python",
   "pygments_lexer": "ipython3",
   "version": "3.12.6"
  }
 },
 "nbformat": 4,
 "nbformat_minor": 5
}
