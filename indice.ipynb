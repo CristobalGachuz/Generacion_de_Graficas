{
 "cells": [
  {
   "cell_type": "markdown",
   "id": "8a65666e",
   "metadata": {},
   "source": [
    "# Índice de Notebooks de Gráficos\n",
    "\n",
    "Este notebook contiene enlaces a los distintos tipos de gráficos generados por cada integrante del equipo. Haz clic en cada enlace para abrir el notebook correspondiente en GitHub (una vez estén fusionados en `main`).\n"
   ]
  },
  {
   "cell_type": "markdown",
   "id": "02521c98",
   "metadata": {},
   "source": [
    "## Gráficos\n",
    "\n",
    "1. [Histograma](Cristobal_Histograma.ipynb)\n",
    "2. [Polígono de frecuencias](Pinky_poligono_de_frecuencias.ipynb)\n",
    "3. [Ojiva](Edwin_Ojiva.ipynb)\n",
    "4. [Diagrama de barras horizontales](barras_horizontales.ipynb)\n",
    "5. [Diagrama de pastel](Generacion_de_Graficas/blob/Diego_Pastel/ruta/completa/del/Diego_Pastel.ipynb)"
   ]
  }
 ],
 "metadata": {
  "language_info": {
   "name": "python"
  }
 },
 "nbformat": 4,
 "nbformat_minor": 5
}
