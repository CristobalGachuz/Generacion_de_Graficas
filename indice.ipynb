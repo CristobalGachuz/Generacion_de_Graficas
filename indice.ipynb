{
 "cells": [
  {
   "cell_type": "markdown",
   "id": "8a65666e",
   "metadata": {},
   "source": [
    "# Índice de Notebooks de Gráficos\n",
    "\n",
    "Este notebook contiene enlaces a los distintos tipos de gráficos generados por cada integrante del equipo. Haz clic en cada enlace para abrir el notebook correspondiente en GitHub (una vez estén fusionados en `main`).\n"
   ]
  },
  {
   "cell_type": "markdown",
   "id": "02521c98",
   "metadata": {},
   "source": [
    "## Gráficos\n",
    "\n",
    "1. [Histograma](https://github.com/CristobalGachuz/Generacion_de_Graficas/blob/Cristobal_Histograma/Cristobal_Histograma.ipynb)\n",
    "2. [Polígono de frecuencias](https://github.com/CristobalGachuz/Generacion_de_Graficas/blob/Pinky_poligono_de_frecuencias/Erik_poligonos_de_frecuencias.ipynb)\n",
    "3. [Ojiva](https://github.com/CristobalGachuz/Generacion_de_Graficas/blob/Edwin_ojiva/Edwin_Ojiva.ipynb)\n",
    "4. [Diagrama de barras horizontales](https://github.com/CristobalGachuz/Generacion_de_Graficas/blob/Andy_Diagram_de_barras_horizontales/Andy_Diagrama_de_barras_horizontales.ipynb)\n",
    "5. [Diagrama de pastel](https://github.com/CristobalGachuz/Generacion_de_Graficas/blob/Diego_Pastel/Diego_Pastel.ipynb)"
   ]
  }
 ],
 "metadata": {
  "language_info": {
   "name": "python"
  }
 },
 "nbformat": 4,
 "nbformat_minor": 5
}
