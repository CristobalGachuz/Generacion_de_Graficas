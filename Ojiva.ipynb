{
 "cells": [
  {
   "cell_type": "code",
   "execution_count": null,
   "id": "3228ee07",
   "metadata": {
    "vscode": {
     "languageId": "plaintext"
    }
   },
   "outputs": [],
   "source": [
    "import pandas as pd\n",
    "data = pd.DataFrame({\n",
    "    'LimInf': [0, 10, 20, 30, 40],\n",
    "    'LimSup': [10, 20, 30, 40, 50],\n",
    "    'Frecuencia': [5, 10, 15, 20, 10]\n",
    "})\n",
    "\n",
    "data['FrecAcum'] = data['Frecuencia'].cumsum()\n",
    "\n",
    "plt.figure(figsize=(10, 6))\n",
    "plt.plot(data['LimSup'], data['FrecAcum'], 'o-', label='Ojiva')\n",
    "plt.plot([data['LimInf'].iloc[0]] + data['LimSup'].tolist(), \n",
    "         [0] + data['FrecAcum'].tolist(), 'o-')\n",
    "plt.title('Ojiva de Frecuencias Acumuladas')\n",
    "plt.xlabel('Límites de Clase')\n",
    "plt.ylabel('Frecuencia Acumulada')\n",
    "plt.grid(True)\n",
    "plt.legend()\n",
    "plt.show()"
   ]
  }
 ],
 "metadata": {
  "language_info": {
   "name": "python"
  }
 },
 "nbformat": 4,
 "nbformat_minor": 5
}
